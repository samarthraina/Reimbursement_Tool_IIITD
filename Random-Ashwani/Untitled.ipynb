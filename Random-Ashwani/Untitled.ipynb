{
 "cells": [
  {
   "cell_type": "code",
   "execution_count": 5,
   "id": "1ed6139a",
   "metadata": {},
   "outputs": [],
   "source": [
    "import requests\n",
    "import re\n",
    "import json"
   ]
  },
  {
   "cell_type": "code",
   "execution_count": 6,
   "id": "17649f97",
   "metadata": {},
   "outputs": [],
   "source": [
    "pdf_path = 'Food_Bill.pdf'\n",
    "response = requests.post('https://api.ocr.space/parse/image', files={'filename': open(pdf_path, 'rb')}, data={'apikey': 'K82346536888957', 'OCREngine': '2'})\n",
    "extracted_text = response.json()['ParsedResults'][0]['ParsedText']"
   ]
  },
  {
   "cell_type": "code",
   "execution_count": 7,
   "id": "91114937",
   "metadata": {},
   "outputs": [],
   "source": [
    "def extract_info_from_string(input_string):\n",
    "    extraction_rules = {\n",
    "        \"date\": r'\\d{2}-[A-Za-z]{3}-\\d{2}',\n",
    "        \"seller_name\": r'(?:Name\\n:\\s)([^\\n]+)',\n",
    "        \"gstin\": r'(?:GSTIN:\\s)([^\\n]+)',\n",
    "        \"pan_number\": r'(?:PAN:\\s)([A-Za-z]{5}\\d{4}[A-Za-z])',\n",
    "        \"total_price\": r'(?:Total\\n)([\\d.-]+)',\n",
    "        \"descriptions_with_quantity\": r'(\\d+\\.\\d{2}\\n[^\\n]+)\\n\\d+\\.\\d{2}'\n",
    "    }\n",
    "\n",
    "    extracted_data = {}\n",
    "\n",
    "    for info_name, pattern in extraction_rules.items():\n",
    "        matches = re.findall(pattern, input_string)\n",
    "        extracted_data[info_name] = matches[0] if matches else None\n",
    "\n",
    "    return extracted_data\n"
   ]
  },
  {
   "cell_type": "code",
   "execution_count": 8,
   "id": "44c4701e",
   "metadata": {},
   "outputs": [],
   "source": [
    "extracted_info = extract_info_from_string(extracted_text)"
   ]
  },
  {
   "cell_type": "code",
   "execution_count": 9,
   "id": "b1cff74f",
   "metadata": {},
   "outputs": [
    {
     "name": "stdout",
     "output_type": "stream",
     "text": [
      "{\n",
      "    \"date\": \"28-Nov-19\",\n",
      "    \"seller_name\": \"Galitos, PMC, Chennai\",\n",
      "    \"gstin\": \"33AATCG73851125\",\n",
      "    \"pan_number\": null,\n",
      "    \"total_price\": \"726.00\",\n",
      "    \"descriptions_with_quantity\": \"726.00\\n18.16\"\n",
      "}\n"
     ]
    }
   ],
   "source": [
    "json_data = json.dumps(extracted_info, indent=4)\n",
    "\n",
    "print(json_data)"
   ]
  },
  {
   "cell_type": "code",
   "execution_count": null,
   "id": "55552364",
   "metadata": {},
   "outputs": [],
   "source": []
  }
 ],
 "metadata": {
  "kernelspec": {
   "display_name": "Python 3 (ipykernel)",
   "language": "python",
   "name": "python3"
  },
  "language_info": {
   "codemirror_mode": {
    "name": "ipython",
    "version": 3
   },
   "file_extension": ".py",
   "mimetype": "text/x-python",
   "name": "python",
   "nbconvert_exporter": "python",
   "pygments_lexer": "ipython3",
   "version": "3.10.2"
  }
 },
 "nbformat": 4,
 "nbformat_minor": 5
}
