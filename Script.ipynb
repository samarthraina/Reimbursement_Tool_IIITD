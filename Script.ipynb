{
 "cells": [
  {
   "cell_type": "code",
   "execution_count": 39,
   "id": "94656256",
   "metadata": {},
   "outputs": [],
   "source": [
    "import requests\n",
    "import re\n",
    "import json"
   ]
  },
  {
   "cell_type": "code",
   "execution_count": 6,
   "id": "58a6552e",
   "metadata": {},
   "outputs": [],
   "source": [
    "pdf_path = 'Food_Bill.pdf'\n",
    "response = requests.post('https://api.ocr.space/parse/image', files={'filename': open(pdf_path, 'rb')}, data={'apikey': 'K82346536888957', 'OCREngine': '2'})\n",
    "extracted_text = response.json()['ParsedResults'][0]['ParsedText']"
   ]
  },
  {
   "cell_type": "code",
   "execution_count": 51,
   "id": "11c4200d",
   "metadata": {},
   "outputs": [
    {
     "name": "stdout",
     "output_type": "stream",
     "text": [
      "Invoice Number: FAM7U32400638347\n",
      "Seller Name: S V ELECTRONICS LIMITED\n",
      "Price: 394.0\n",
      "PAN Number: AAECS1679J\n",
      "GST Number: 06AAECS1679J1Z2\n",
      "Order ID: OD428422630232564100\n",
      "Date: 22-06-2023\n"
     ]
    }
   ],
   "source": [
    "def extract_information_from_string(text):\n",
    "    extracted_info = {}\n",
    "\n",
    "\n",
    "    invoice_number_match = re.search(r\"Invoice Number # (\\w+)\", text)\n",
    "    if invoice_number_match:\n",
    "        extracted_info['Invoice Number'] = invoice_number_match.group(1)\n",
    "\n",
    "\n",
    "    seller_name_match = re.search(r\"Sold By: (.+),\", text)\n",
    "    if seller_name_match:\n",
    "        extracted_info['Seller Name'] = seller_name_match.group(1)\n",
    "\n",
    "\n",
    "    price_match = re.search(r\"Grand Total\\n§ (\\d+\\.\\d{2})\", text)\n",
    "    if price_match:\n",
    "        extracted_info['Price'] = float(price_match.group(1))\n",
    "\n",
    "\n",
    "    product_desc_match = re.search(r\"Product\\nTitle\\nQty\\n(.+)\\nFSN\", text)\n",
    "    if product_desc_match:\n",
    "        extracted_info['Product Description'] = product_desc_match.group(1)\n",
    "\n",
    "\n",
    "    pan_number_match = re.search(r\"PAN: (\\w+)\", text)\n",
    "    if pan_number_match:\n",
    "        extracted_info['PAN Number'] = pan_number_match.group(1)\n",
    "\n",
    "\n",
    "    gst_number_match = re.search(r\"GSTIN - (\\w+)\", text)\n",
    "    if gst_number_match:\n",
    "        extracted_info['GST Number'] = gst_number_match.group(1)\n",
    "\n",
    "\n",
    "    order_id_match = re.search(r\"Order ID: (\\w+)\", text)\n",
    "    if order_id_match:\n",
    "        extracted_info['Order ID'] = order_id_match.group(1)\n",
    "\n",
    "\n",
    "    date_match = re.search(r\"Invoice Date: (\\d{2}-\\d{2}-\\d{4})\", text)\n",
    "    if date_match:\n",
    "        extracted_info['Date'] = date_match.group(1)\n",
    "\n",
    "    return extracted_info\n",
    "\n",
    "\n",
    "if __name__ == \"__main__\":\n",
    "\n",
    "    extracted_information = extract_information_from_string(extracted_text)\n",
    "\n",
    "    for key, value in extracted_information.items():\n",
    "        print(f\"{key}: {value}\")\n"
   ]
  },
  {
   "cell_type": "code",
   "execution_count": 52,
   "id": "dfe44173",
   "metadata": {},
   "outputs": [
    {
     "name": "stdout",
     "output_type": "stream",
     "text": [
      "{\n",
      "  \"Invoice Number\": \"FAM7U32400638347\",\n",
      "  \"Seller Name\": \"S V ELECTRONICS LIMITED\",\n",
      "  \"Price\": 394.0,\n",
      "  \"PAN Number\": \"AAECS1679J\",\n",
      "  \"GST Number\": \"06AAECS1679J1Z2\",\n",
      "  \"Order ID\": \"OD428422630232564100\",\n",
      "  \"Date\": \"22-06-2023\"\n",
      "}\n"
     ]
    }
   ],
   "source": [
    "json_data = json.dumps(extracted_information, indent=2)\n",
    "print(json_data)\n"
   ]
  },
  {
   "cell_type": "code",
   "execution_count": 7,
   "id": "70ea4501",
   "metadata": {},
   "outputs": [
    {
     "data": {
      "text/plain": [
       "'Calito\\'s\\n1 FLAME GRILLED CHICKEN\\nGalito\\' s\\nUnit No: UG-41,PMC, Old Door. No. 66, New\\nDoar No. 142, Velachary, Channai\\nPh No.\\nInail;\\nTAX INVOICE\\nInv: LIN02B1920003774\\n28-Nov-19\\nName\\n: Galitos, PMC, Chennai\\nMobile\\nAddrass :TI IND\\nServer\\nSUNIL\\nTable\\n: G,BA\\nSr# Barcode /Name\\n1\\nVEG RICE BOWL MEA\\nI\\nTime: 16:47\\nQty\\nAmount\\n1.00\\n179.00\\nCLASSIC LEMONADE\\nMILD BASTING GAL\\n2\\nVEG RICE BOWL MEA\\nCLASSIC LEMONADE\\n1.00\\n179.00\\nMILD BASTING GAL\\n3\\nVEG RICE BOWL MEA\\n1.00\\n179.00\\nCLASSIC LEMONADE\\nMILD BASTING GAL\\n4\\nQUARTER CHICKEN M\\n1.00\\n189.00\\nCORN ON THE COB\\nCLASSIC LEMONADE\\nMILD BASTING GAL\\nSub Total:\\nCGST @ 2.50%\\nSGST @ 2.50%\\nRound Off\\nTotal\\n726.00\\n18.16\\n18.16\\n-0.32\\n762.00\\n762.00\\nCOD\\nSAC: 996331\\nGSTIN: 33AATCG73851125\\nCIN: U15400K12014PTC037284\\nAuthorised Signatory..\\n\"Thank-you\"\\n\"Visit Again\"'"
      ]
     },
     "execution_count": 7,
     "metadata": {},
     "output_type": "execute_result"
    }
   ],
   "source": [
    "extracted_text"
   ]
  },
  {
   "cell_type": "code",
   "execution_count": null,
   "id": "21163288",
   "metadata": {},
   "outputs": [],
   "source": []
  }
 ],
 "metadata": {
  "kernelspec": {
   "display_name": "Python 3 (ipykernel)",
   "language": "python",
   "name": "python3"
  },
  "language_info": {
   "codemirror_mode": {
    "name": "ipython",
    "version": 3
   },
   "file_extension": ".py",
   "mimetype": "text/x-python",
   "name": "python",
   "nbconvert_exporter": "python",
   "pygments_lexer": "ipython3",
   "version": "3.10.2"
  }
 },
 "nbformat": 4,
 "nbformat_minor": 5
}
